{
 "cells": [
  {
   "cell_type": "code",
   "execution_count": 2,
   "metadata": {},
   "outputs": [],
   "source": [
    "from geoband.API import *"
   ]
  },
  {
   "cell_type": "code",
   "execution_count": 3,
   "metadata": {},
   "outputs": [],
   "source": [
    "import pandas as pd\n",
    "import folium\n",
    "import geopandas as gpd\n",
    "import warnings\n",
    "warnings.filterwarnings(action='ignore')"
   ]
  },
  {
   "cell_type": "code",
   "execution_count": 3,
   "metadata": {},
   "outputs": [],
   "source": [
    "GetCompasData('SBJ_2012_001', '2', '2.오산시_어린이교통사고_격자.geojson')\n",
    "GetCompasData('SBJ_2012_001', '15', '15.오산시_무인교통단속카메라.csv')"
   ]
  },
  {
   "cell_type": "code",
   "execution_count": 4,
   "metadata": {},
   "outputs": [],
   "source": [
    "data2 = gpd.read_file('2.오산시_어린이교통사고_격자.geojson')\n",
    "data15 = pd.read_csv('15.오산시_무인교통단속카메라.csv')"
   ]
  },
  {
   "cell_type": "code",
   "execution_count": 5,
   "metadata": {},
   "outputs": [
    {
     "data": {
      "text/html": [
       "<div>\n",
       "<style scoped>\n",
       "    .dataframe tbody tr th:only-of-type {\n",
       "        vertical-align: middle;\n",
       "    }\n",
       "\n",
       "    .dataframe tbody tr th {\n",
       "        vertical-align: top;\n",
       "    }\n",
       "\n",
       "    .dataframe thead th {\n",
       "        text-align: right;\n",
       "    }\n",
       "</style>\n",
       "<table border=\"1\" class=\"dataframe\">\n",
       "  <thead>\n",
       "    <tr style=\"text-align: right;\">\n",
       "      <th></th>\n",
       "      <th>gid</th>\n",
       "      <th>accident_cnt</th>\n",
       "      <th>geometry</th>\n",
       "    </tr>\n",
       "  </thead>\n",
       "  <tbody>\n",
       "    <tr>\n",
       "      <th>4505</th>\n",
       "      <td>다사646052</td>\n",
       "      <td>0</td>\n",
       "      <td>MULTIPOLYGON (((127.10138 37.14484, 127.10138 ...</td>\n",
       "    </tr>\n",
       "    <tr>\n",
       "      <th>4506</th>\n",
       "      <td>다사646053</td>\n",
       "      <td>0</td>\n",
       "      <td>MULTIPOLYGON (((127.10138 37.14575, 127.10137 ...</td>\n",
       "    </tr>\n",
       "    <tr>\n",
       "      <th>4507</th>\n",
       "      <td>다사647050</td>\n",
       "      <td>0</td>\n",
       "      <td>MULTIPOLYGON (((127.10252 37.14305, 127.10251 ...</td>\n",
       "    </tr>\n",
       "    <tr>\n",
       "      <th>4508</th>\n",
       "      <td>다사647051</td>\n",
       "      <td>0</td>\n",
       "      <td>MULTIPOLYGON (((127.10251 37.14395, 127.10251 ...</td>\n",
       "    </tr>\n",
       "    <tr>\n",
       "      <th>4509</th>\n",
       "      <td>다사647052</td>\n",
       "      <td>0</td>\n",
       "      <td>MULTIPOLYGON (((127.10251 37.14485, 127.10250 ...</td>\n",
       "    </tr>\n",
       "  </tbody>\n",
       "</table>\n",
       "</div>"
      ],
      "text/plain": [
       "           gid  accident_cnt  \\\n",
       "4505  다사646052             0   \n",
       "4506  다사646053             0   \n",
       "4507  다사647050             0   \n",
       "4508  다사647051             0   \n",
       "4509  다사647052             0   \n",
       "\n",
       "                                               geometry  \n",
       "4505  MULTIPOLYGON (((127.10138 37.14484, 127.10138 ...  \n",
       "4506  MULTIPOLYGON (((127.10138 37.14575, 127.10137 ...  \n",
       "4507  MULTIPOLYGON (((127.10252 37.14305, 127.10251 ...  \n",
       "4508  MULTIPOLYGON (((127.10251 37.14395, 127.10251 ...  \n",
       "4509  MULTIPOLYGON (((127.10251 37.14485, 127.10250 ...  "
      ]
     },
     "execution_count": 5,
     "metadata": {},
     "output_type": "execute_result"
    }
   ],
   "source": [
    "data2.tail()"
   ]
  },
  {
   "cell_type": "code",
   "execution_count": 6,
   "metadata": {},
   "outputs": [],
   "source": [
    "m = folium.Map(location = [37.149799, 127.077116], zoom_start = 12)\n",
    "\n",
    "folium.Choropleth(geo_data = data2, data = data2, columns = ('gid', 'accident_cnt'), key_on='feature.properties.gid',\n",
    "    fill_color = 'YlGnBu', legend_name='accident_cnt').add_to(m)\n",
    "\n",
    "m.save('accident_cnt.html')"
   ]
  },
  {
   "cell_type": "code",
   "execution_count": 7,
   "metadata": {},
   "outputs": [],
   "source": [
    "# 격자가 너무 작아 구별이 잘 안됨 -> 교통사고 수가 0인 곳 제외\n",
    "data2.sort_values(by = 'accident_cnt', ascending = False)\n",
    "\n",
    "data2_accident = data2[data2['accident_cnt'] != 0]"
   ]
  },
  {
   "cell_type": "markdown",
   "metadata": {},
   "source": [
    "### 주정차 단속수와 교통사고수 관계###"
   ]
  },
  {
   "cell_type": "code",
   "execution_count": 9,
   "metadata": {},
   "outputs": [],
   "source": [
    "GetCompasData('SBJ_2012_001', '1', '1.오산시_주정차단속(2018~2020).csv')\n",
    "data1 = pd.read_csv('1.오산시_주정차단속(2018~2020).csv')\n",
    "\n",
    "data1['area'] = ''\n",
    "for idx in data1.index:\n",
    "    string = data1['행정구역'][idx].split(' ')[2]\n",
    "    data1['area'][idx] = string\n",
    "\n",
    "area_df = pd.DataFrame(data1['area'].groupby(data1['area']).count())\n",
    "area_df.columns = ['count']\n",
    "area_df.reset_index(inplace = True)"
   ]
  },
  {
   "cell_type": "code",
   "execution_count": 10,
   "metadata": {},
   "outputs": [],
   "source": [
    "GetCompasData('SBJ_2012_001', '33', '33.오산시_법정경계(읍면동).geojson')\n",
    "data33 = gpd.read_file('33.오산시_법정경계(읍면동).geojson')\n",
    "\n",
    "m = folium.Map(location = [37.149799, 127.077116], zoom_start = 12)\n",
    "\n",
    "folium.Choropleth(geo_data = data33, data = area_df, columns = ('area', 'count'), key_on='feature.properties.EMD_KOR_NM',\n",
    "    fill_color = 'YlGnBu', legend_name='주정차단속수', popup = 'area').add_to(m)\n",
    "\n",
    "folium.Choropleth(geo_data = data2_accident, data = data2_accident, columns = ('gid', 'accident_cnt'), key_on='feature.properties.gid',\n",
    "    fill_color = 'PuRd', legend_name='교통사고수').add_to(m)\n",
    "\n",
    "m.save('주정차 단속수 & 교통사고 수.html')"
   ]
  },
  {
   "cell_type": "markdown",
   "metadata": {},
   "source": [
    "### 주정차단속CCTV수와 교통사고수의 관계###"
   ]
  },
  {
   "cell_type": "code",
   "execution_count": 11,
   "metadata": {},
   "outputs": [],
   "source": [
    "from folium.plugins import MarkerCluster\n",
    "\n",
    "m = folium.Map(location = [37.149799, 127.077116], zoom_start = 12)\n",
    "\n",
    "folium.Choropleth(geo_data = data2_accident, data = data2_accident, columns = ('gid', 'accident_cnt'), key_on='feature.properties.gid',\n",
    "    fill_color = 'PuRd', legend_name='교통사고수').add_to(m)\n",
    "\n",
    "marker_cluster = MarkerCluster().add_to(m) \n",
    "for idx in data15.index: \n",
    "    folium.Marker(location = [data15['설치위치_위도'][idx],data15['설치위치_경도'][idx]], \n",
    "                  icon=folium.Icon(icon = 'camera') ).add_to(marker_cluster)\n",
    "\n",
    "m.save('CCTV수 & 교통사고수.html')\n",
    "\n",
    "# 세교동 : 도로에 교통사고 수가 많은 것으로 보아 주정차보다는 다른 요인에 의해 교통사고가 자주 일어나는 듯해보임\n",
    "# 가수동 : 오산초 쪽 CCTV 늘릴 필요가 있어보임."
   ]
  },
  {
   "cell_type": "markdown",
   "metadata": {},
   "source": [
    "### CCTV(C,E) 와 교통사고수관계 ###"
   ]
  },
  {
   "cell_type": "code",
   "execution_count": 12,
   "metadata": {},
   "outputs": [],
   "source": [
    "GetCompasData('SBJ_2012_001', '20', '20.오산시_CCTV설치현황.csv')\n",
    "data20 = pd.read_csv('20.오산시_CCTV설치현황.csv')"
   ]
  },
  {
   "cell_type": "code",
   "execution_count": 13,
   "metadata": {},
   "outputs": [],
   "source": [
    "data20_C = data20[data20['CCTV 유형코드'] == 'C']\n",
    "data20_E = data20[data20['CCTV 유형코드'] == 'E']\n",
    "\n",
    "data20_C.replace(172.058905, 127.058905, inplace = True)\n",
    "data20_E.rename(columns = {'설치위치_위도':'설치위치_경도', '설치위치_경도':'설치위치_위도'}, inplace = True)"
   ]
  },
  {
   "cell_type": "code",
   "execution_count": 14,
   "metadata": {},
   "outputs": [],
   "source": [
    "m = folium.Map(location = [37.149799, 127.077116], zoom_start = 13)\n",
    "\n",
    "folium.Choropleth(geo_data = data2_accident, data = data2_accident, columns = ('gid', 'accident_cnt'), key_on='feature.properties.gid',\n",
    "    fill_color = 'PuRd', legend_name='교통사고수').add_to(m)\n",
    "\n",
    "for idx in data20_C.index:\n",
    "    folium.Marker([data20_C['설치위치_위도'][idx],data20_C['설치위치_경도'][idx]], \n",
    "                  popup = data20_C['설치위치_도로명주소'][idx], icon = folium.Icon(icon = 'camera',color = 'blue')).add_to(m)\n",
    "\n",
    "for idx in data20_E.index:\n",
    "    folium.Marker([data20_E['설치위치_위도'][idx],data20_E['설치위치_경도'][idx]], \n",
    "                  popup = data20_E['설치위치_도로명주소'][idx], icon = folium.Icon(icon = 'camera',color = 'red')).add_to(m)\n",
    "\n",
    "m.save('CCTV(C,E) & 교통사고수.html')\n",
    "    \n",
    "# 교육지원청 사거리, 한정 사거리, 오산시청 앞 사거리, 원동사거리 과속단속 CCTV 설치 필요성?"
   ]
  },
  {
   "cell_type": "code",
   "execution_count": null,
   "metadata": {},
   "outputs": [],
   "source": []
  }
 ],
 "metadata": {
  "kernelspec": {
   "display_name": "Python 3",
   "language": "python",
   "name": "python3"
  },
  "language_info": {
   "codemirror_mode": {
    "name": "ipython",
    "version": 3
   },
   "file_extension": ".py",
   "mimetype": "text/x-python",
   "name": "python",
   "nbconvert_exporter": "python",
   "pygments_lexer": "ipython3",
   "version": "3.6.9"
  }
 },
 "nbformat": 4,
 "nbformat_minor": 2
}
